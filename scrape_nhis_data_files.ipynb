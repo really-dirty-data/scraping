{
 "cells": [
  {
   "cell_type": "code",
   "execution_count": 3,
   "metadata": {
    "collapsed": true
   },
   "outputs": [],
   "source": [
    "import zipfile\n",
    "import urllib\n",
    "import os"
   ]
  },
  {
   "cell_type": "code",
   "execution_count": 7,
   "metadata": {
    "collapsed": false
   },
   "outputs": [],
   "source": [
    "# download all .sas files into current directory\n",
    "# label all .sas files as year_name.sas\n",
    "\n",
    "#variables\n",
    "sas_url = 'ftp://ftp.cdc.gov/pub/Health_Statistics/NCHS/Program_Code/NHIS/'\n",
    "survey_arr  = ['familyxx', 'househld', 'personsx', 'samchild', 'samadult']\n",
    "dirs04 = ['familyfile', 'household', 'person', 'samplechild', 'sampleadult']\n",
    "\n",
    "# set for for-loop for year range\n",
    "for year in range(1997,2015):\n",
    "    \n",
    "    # for-loop for every file in each year \n",
    "    for s in range(len(survey_arr)):\n",
    "        file_path = 'Data/' + str(year) + '/' + survey_arr[s] + '.sas'\n",
    "        \n",
    "        #url directory is different for 2004, uses dirs04 list\n",
    "        if year==2004:\n",
    "            target = sas_url + str(year) + '/' + dirs04[s] + '/' + survey_arr[s] + \".sas\"\n",
    "        else:\n",
    "            target = sas_url + str(year) + '/' + survey_arr[s] + \".sas\"\n",
    "        \n",
    "        #use urllib to retrieve file and save in current directory\n",
    "        testfile =  urllib.URLopener()\n",
    "        testfile.retrieve(target, file_path)"
   ]
  },
  {
   "cell_type": "code",
   "execution_count": 2,
   "metadata": {
    "collapsed": true
   },
   "outputs": [
    {
     "ename": "NameError",
     "evalue": "name 'j' is not defined",
     "output_type": "error",
     "traceback": [
      "\u001b[0;31m---------------------------------------------------------------------------\u001b[0m",
      "\u001b[0;31mNameError\u001b[0m                                 Traceback (most recent call last)",
      "\u001b[0;32m<ipython-input-2-efa80018a05d>\u001b[0m in \u001b[0;36m<module>\u001b[0;34m()\u001b[0m\n\u001b[1;32m     20\u001b[0m \u001b[0;34m\u001b[0m\u001b[0m\n\u001b[1;32m     21\u001b[0m     \u001b[0;32mfor\u001b[0m \u001b[0ms\u001b[0m \u001b[0;32min\u001b[0m \u001b[0mrange\u001b[0m\u001b[0;34m(\u001b[0m\u001b[0mlen\u001b[0m\u001b[0;34m(\u001b[0m\u001b[0msurvey_arr\u001b[0m\u001b[0;34m)\u001b[0m\u001b[0;34m)\u001b[0m\u001b[0;34m:\u001b[0m\u001b[0;34m\u001b[0m\u001b[0m\n\u001b[0;32m---> 22\u001b[0;31m         \u001b[0mfile_name\u001b[0m \u001b[0;34m=\u001b[0m \u001b[0mstr\u001b[0m\u001b[0;34m(\u001b[0m\u001b[0myear\u001b[0m\u001b[0;34m)\u001b[0m \u001b[0;34m+\u001b[0m \u001b[0;34m'_'\u001b[0m \u001b[0;34m+\u001b[0m \u001b[0mj\u001b[0m \u001b[0;34m+\u001b[0m \u001b[0mext\u001b[0m\u001b[0;34m\u001b[0m\u001b[0m\n\u001b[0m\u001b[1;32m     23\u001b[0m \u001b[0;34m\u001b[0m\u001b[0m\n\u001b[1;32m     24\u001b[0m         \u001b[0;32mif\u001b[0m \u001b[0myear\u001b[0m \u001b[0;34m==\u001b[0m \u001b[0;36m2004\u001b[0m\u001b[0;34m:\u001b[0m\u001b[0;34m\u001b[0m\u001b[0m\n",
      "\u001b[0;31mNameError\u001b[0m: name 'j' is not defined"
     ]
    }
   ],
   "source": [
    "# download all .zip and .exe files into the current directory\n",
    "# label all files as year_name.zip or year_name.exe dependening on format\n",
    "\n",
    "# variables\n",
    "data_url    = 'ftp://ftp.cdc.gov/pub/Health_Statistics/NCHS/Datasets/NHIS/'\n",
    "survey_arr  = ['familyxx', 'househld', 'personsx', 'samchild', 'samadult']\n",
    "dirs04 = ['familyfile', 'household', 'person', 'samplechild', 'sampleadult']\n",
    "\n",
    "\n",
    "# set for-loop for the year range\n",
    "for year in range(2014,2015):\n",
    "    \n",
    "    # file extension variable, 2009 and before .exe, after 2009 .zip\n",
    "    if year <= 2009:\n",
    "        ext = '.exe'\n",
    "    else:\n",
    "        ext = '.zip'\n",
    "        \n",
    "    url = data_url + str(year)\n",
    "    \n",
    "    for s in range(len(survey_arr)):\n",
    "        file_name = str(year) + '_' + survey_arr[s] + ext\n",
    "        \n",
    "        if year == 2004:\n",
    "            target = data_url + str(year) + '/' + dirs04[s] + '/' + survey_arr[s] + ext\n",
    "            \n",
    "        \n",
    "        else:\n",
    "            target = data_url + str(year) + '/' + survey_arr[s] + ext\n",
    "        print target\n",
    "        testfile =  urllib.URLopener()\n",
    "        testfile.retrieve(target, file_name)\n",
    "        \n",
    "        "
   ]
  },
  {
   "cell_type": "code",
   "execution_count": 5,
   "metadata": {
    "collapsed": false
   },
   "outputs": [
    {
     "name": "stdout",
     "output_type": "stream",
     "text": [
      "/Users/johnkeating/ds/get_better ['.ipynb_checkpoints'] ['.ds_store', 'dat_file.ipynb', 'dat_scrape.ipynb', 'hello.txt', 'scrape_nhis_data_files.ipynb', 'test.txt']\n",
      "/Users/johnkeating/ds/get_better/.ipynb_checkpoints [] ['dat_scrape-checkpoint.ipynb', 'scrape_nhis_data_files-checkpoint.ipynb']\n"
     ]
    }
   ],
   "source": [
    "for path, subdirs, filenames in os.walk(os.getcwd()):\n",
    "    print path, subdirs, filenames\n",
    "    for filename in filenames:\n",
    "        os.rename(filename, filename.lower())"
   ]
  },
  {
   "cell_type": "code",
   "execution_count": null,
   "metadata": {
    "collapsed": true
   },
   "outputs": [],
   "source": []
  }
 ],
 "metadata": {
  "kernelspec": {
   "display_name": "Python 2",
   "language": "python",
   "name": "python2"
  },
  "language_info": {
   "codemirror_mode": {
    "name": "ipython",
    "version": 2
   },
   "file_extension": ".py",
   "mimetype": "text/x-python",
   "name": "python",
   "nbconvert_exporter": "python",
   "pygments_lexer": "ipython2",
   "version": "2.7.10"
  }
 },
 "nbformat": 4,
 "nbformat_minor": 0
}
